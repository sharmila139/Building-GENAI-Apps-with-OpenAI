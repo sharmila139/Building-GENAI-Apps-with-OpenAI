{
 "cells": [
  {
   "cell_type": "markdown",
   "metadata": {},
   "source": [
    "25.2 Taking a site, scrap the data and make my model read the page and can anser any kind of questions"
   ]
  },
  {
   "cell_type": "code",
   "execution_count": 1,
   "metadata": {},
   "outputs": [],
   "source": [
    "##Simple Genai aPP USING lANGCHAIN\n",
    "import os\n",
    "from dotenv import load_dotenv  \n",
    "load_dotenv()\n",
    "\n",
    "os.environ['OPENAI_API_KEY']= os.getenv(\"OPENAI_API_KEY\")\n",
    "os.environ['LANGCHAIN_API_KEY']= os.getenv(\"LANGCHAIN_API_KEY\")\n",
    "##LANGCHAIN TRACING\n",
    "os.environ['LANGCHAIN_TRACING_V2']=\"true\"\n",
    "os.environ['LANGCHAIN_PROJECT']= os.getenv(\"LANGCHAIN_PROJECT\")"
   ]
  },
  {
   "cell_type": "code",
   "execution_count": null,
   "metadata": {},
   "outputs": [],
   "source": [
    "##beautifulsoup library helps us scrap the entire websites data\n",
    "import requests\n",
    "from bs4 import BeautifulSoup"
   ]
  },
  {
   "cell_type": "code",
   "execution_count": 8,
   "metadata": {},
   "outputs": [
    {
     "data": {
      "text/plain": [
       "[Document(metadata={'source': 'https://docs.smith.langchain.com/prompt_engineering/quickstarts/quickstart_ui', 'title': 'Prompt Engineering Quick Start (UI) | 🦜️🛠️ LangSmith', 'description': 'This quick start will walk through how to create, test, and iterate on prompts in LangSmith.', 'language': 'en'}, page_content='\\n\\n\\n\\n\\nPrompt Engineering Quick Start (UI) | 🦜️🛠️ LangSmith\\n\\n\\n\\n\\n\\n\\nSkip to main contentJoin us at  Interrupt: The Agent AI Conference by LangChain on May 13 & 14 in San Francisco!API ReferenceRESTPythonJS/TSSearchRegionUSEUGo to AppGet StartedObservabilityEvaluationPrompt EngineeringQuickstartsQuick Start (UI)Quick Start (SDK)TutorialsOptimize a classifierHow-to GuidesCreate a promptRun the playground against a custom LangServe model serverRun the playground against an OpenAI-compliant model provider/proxyUpdate a promptManage prompts programmaticallyManaging Prompt SettingsPrompt TagsOpen a prompt from a traceTesting over a datasetLangChain HubPrompt CanvasConceptual GuideDeployment (LangGraph Platform)AdministrationSelf-hostingPricingReferenceCloud architecture and scalabilityAuthz and AuthnAuthentication methodsdata_formatsEvaluationDataset transformationsRegions FAQsdk_referencePrompt EngineeringOn this pagePrompt Engineering Quick Start (UI)\\nThis quick start will walk through how to create, test, and iterate on prompts in LangSmith.\\nQuickStartThis tutorial uses the UI for prompt engineering, if you are interested in using the SDK instead, read this guide.\\n1. Setup\\u200b\\nThe only setup needed for this guide is to make sure you have signed up for a LangSmith account.\\n2. Create a prompt\\u200b\\nTo create a prompt in LangSmith, navigate to the Prompts section of the left-hand sidebar and click on the “+ New Prompt” button.\\nYou can then modify the prompt by editing/adding messages and input variables.\\n\\n3. Test a prompt\\u200b\\nTo test a prompt, set the model configuration you want to use, add your LLM provider\\'s API key, specify the prompt input values you want to test, and then click \"Start\".\\nTo learn about more options for configuring your prompt in the playground, check out this guide.\\nIf you are interested in testing how your prompt performs over a dataset instead of individual examples, read this page.\\n\\n4. Save a prompt\\u200b\\nOne you have run some tests and made your desired changes to your prompt you can click the “Save” button to save your prompt for future use.\\n\\n5. Iterate on a prompt\\u200b\\nLangSmith makes it easy to iterate on prompts with your entire team. Members of your workspace can select a prompt to iterate on in the playground,\\nand once they are happy with their changes, they can simply save it as a new commit.\\nTo improve your prompts:\\n\\n\\nWe recommend referencing the documentation provided by your model provider for best practices in prompt creation,\\nsuch as Best practices for prompt engineering with the OpenAI API and Gemini’s Introduction to prompt design.\\n\\n\\nTo help with iterating on your prompts in LangSmith, we\\'ve created Prompt Canvas —\\xa0an interactive tool to build and optimize your prompts.\\nLearn about how to use Prompt Canvas.\\n\\n\\n\\nYou can also tag specific commits to mark important moments in your commit history:\\n\\n6. Next steps\\u200b\\n\\nLearn more about how to store and manage prompts using the Prompt Hub in these how-to guides\\nLearn more about how to use the playground for prompt engineering in these how-to guides\\nWas this page helpful?You can leave detailed feedback on GitHub.PreviousConceptual GuideNextQuick Start (UI)1. Setup2. Create a prompt3. Test a prompt4. Save a prompt5. Iterate on a prompt6. Next stepsCommunityDiscordTwitterGitHubDocs CodeLangSmith SDKPythonJS/TSMoreHomepageBlogLangChain Python DocsLangChain JS/TS DocsCopyright © 2025 LangChain, Inc.\\n\\n')]"
      ]
     },
     "execution_count": 8,
     "metadata": {},
     "output_type": "execute_result"
    }
   ],
   "source": [
    "##DATA INGESTION - FROM WEBSITE WE NED TO SCRAPE THE DATA\n",
    "from langchain_community.document_loaders import WebBaseLoader\n",
    "loader = WebBaseLoader([\"https://docs.smith.langchain.com/prompt_engineering/quickstarts/quickstart_ui\"])\n",
    "##entire infromation is loaded into docs\n",
    "doc = loader.load()\n",
    "doc"
   ]
  },
  {
   "cell_type": "code",
   "execution_count": 9,
   "metadata": {},
   "outputs": [
    {
     "data": {
      "text/plain": [
       "[Document(metadata={'source': 'https://docs.smith.langchain.com/prompt_engineering/quickstarts/quickstart_ui', 'title': 'Prompt Engineering Quick Start (UI) | 🦜️🛠️ LangSmith', 'description': 'This quick start will walk through how to create, test, and iterate on prompts in LangSmith.', 'language': 'en'}, page_content='Prompt Engineering Quick Start (UI) | 🦜️🛠️ LangSmith'),\n",
       " Document(metadata={'source': 'https://docs.smith.langchain.com/prompt_engineering/quickstarts/quickstart_ui', 'title': 'Prompt Engineering Quick Start (UI) | 🦜️🛠️ LangSmith', 'description': 'This quick start will walk through how to create, test, and iterate on prompts in LangSmith.', 'language': 'en'}, page_content='Skip to main contentJoin us at  Interrupt: The Agent AI Conference by LangChain on May 13 & 14 in San Francisco!API ReferenceRESTPythonJS/TSSearchRegionUSEUGo to AppGet StartedObservabilityEvaluationPrompt EngineeringQuickstartsQuick Start (UI)Quick Start (SDK)TutorialsOptimize a classifierHow-to GuidesCreate a promptRun the playground against a custom LangServe model serverRun the playground against an OpenAI-compliant model provider/proxyUpdate a promptManage prompts programmaticallyManaging'),\n",
       " Document(metadata={'source': 'https://docs.smith.langchain.com/prompt_engineering/quickstarts/quickstart_ui', 'title': 'Prompt Engineering Quick Start (UI) | 🦜️🛠️ LangSmith', 'description': 'This quick start will walk through how to create, test, and iterate on prompts in LangSmith.', 'language': 'en'}, page_content='a promptRun the playground against a custom LangServe model serverRun the playground against an OpenAI-compliant model provider/proxyUpdate a promptManage prompts programmaticallyManaging Prompt SettingsPrompt TagsOpen a prompt from a traceTesting over a datasetLangChain HubPrompt CanvasConceptual GuideDeployment (LangGraph Platform)AdministrationSelf-hostingPricingReferenceCloud architecture and scalabilityAuthz and AuthnAuthentication methodsdata_formatsEvaluationDataset'),\n",
       " Document(metadata={'source': 'https://docs.smith.langchain.com/prompt_engineering/quickstarts/quickstart_ui', 'title': 'Prompt Engineering Quick Start (UI) | 🦜️🛠️ LangSmith', 'description': 'This quick start will walk through how to create, test, and iterate on prompts in LangSmith.', 'language': 'en'}, page_content='CanvasConceptual GuideDeployment (LangGraph Platform)AdministrationSelf-hostingPricingReferenceCloud architecture and scalabilityAuthz and AuthnAuthentication methodsdata_formatsEvaluationDataset transformationsRegions FAQsdk_referencePrompt EngineeringOn this pagePrompt Engineering Quick Start (UI)'),\n",
       " Document(metadata={'source': 'https://docs.smith.langchain.com/prompt_engineering/quickstarts/quickstart_ui', 'title': 'Prompt Engineering Quick Start (UI) | 🦜️🛠️ LangSmith', 'description': 'This quick start will walk through how to create, test, and iterate on prompts in LangSmith.', 'language': 'en'}, page_content='This quick start will walk through how to create, test, and iterate on prompts in LangSmith.\\nQuickStartThis tutorial uses the UI for prompt engineering, if you are interested in using the SDK instead, read this guide.\\n1. Setup\\u200b\\nThe only setup needed for this guide is to make sure you have signed up for a LangSmith account.\\n2. Create a prompt\\u200b\\nTo create a prompt in LangSmith, navigate to the Prompts section of the left-hand sidebar and click on the “+ New Prompt” button.'),\n",
       " Document(metadata={'source': 'https://docs.smith.langchain.com/prompt_engineering/quickstarts/quickstart_ui', 'title': 'Prompt Engineering Quick Start (UI) | 🦜️🛠️ LangSmith', 'description': 'This quick start will walk through how to create, test, and iterate on prompts in LangSmith.', 'language': 'en'}, page_content='2. Create a prompt\\u200b\\nTo create a prompt in LangSmith, navigate to the Prompts section of the left-hand sidebar and click on the “+ New Prompt” button.\\nYou can then modify the prompt by editing/adding messages and input variables.'),\n",
       " Document(metadata={'source': 'https://docs.smith.langchain.com/prompt_engineering/quickstarts/quickstart_ui', 'title': 'Prompt Engineering Quick Start (UI) | 🦜️🛠️ LangSmith', 'description': 'This quick start will walk through how to create, test, and iterate on prompts in LangSmith.', 'language': 'en'}, page_content='3. Test a prompt\\u200b\\nTo test a prompt, set the model configuration you want to use, add your LLM provider\\'s API key, specify the prompt input values you want to test, and then click \"Start\".\\nTo learn about more options for configuring your prompt in the playground, check out this guide.\\nIf you are interested in testing how your prompt performs over a dataset instead of individual examples, read this page.'),\n",
       " Document(metadata={'source': 'https://docs.smith.langchain.com/prompt_engineering/quickstarts/quickstart_ui', 'title': 'Prompt Engineering Quick Start (UI) | 🦜️🛠️ LangSmith', 'description': 'This quick start will walk through how to create, test, and iterate on prompts in LangSmith.', 'language': 'en'}, page_content='4. Save a prompt\\u200b\\nOne you have run some tests and made your desired changes to your prompt you can click the “Save” button to save your prompt for future use.\\n\\n5. Iterate on a prompt\\u200b\\nLangSmith makes it easy to iterate on prompts with your entire team. Members of your workspace can select a prompt to iterate on in the playground,\\nand once they are happy with their changes, they can simply save it as a new commit.\\nTo improve your prompts:'),\n",
       " Document(metadata={'source': 'https://docs.smith.langchain.com/prompt_engineering/quickstarts/quickstart_ui', 'title': 'Prompt Engineering Quick Start (UI) | 🦜️🛠️ LangSmith', 'description': 'This quick start will walk through how to create, test, and iterate on prompts in LangSmith.', 'language': 'en'}, page_content=\"We recommend referencing the documentation provided by your model provider for best practices in prompt creation,\\nsuch as Best practices for prompt engineering with the OpenAI API and Gemini’s Introduction to prompt design.\\n\\n\\nTo help with iterating on your prompts in LangSmith, we've created Prompt Canvas —\\xa0an interactive tool to build and optimize your prompts.\\nLearn about how to use Prompt Canvas.\\n\\n\\n\\nYou can also tag specific commits to mark important moments in your commit history:\"),\n",
       " Document(metadata={'source': 'https://docs.smith.langchain.com/prompt_engineering/quickstarts/quickstart_ui', 'title': 'Prompt Engineering Quick Start (UI) | 🦜️🛠️ LangSmith', 'description': 'This quick start will walk through how to create, test, and iterate on prompts in LangSmith.', 'language': 'en'}, page_content='You can also tag specific commits to mark important moments in your commit history:\\n\\n6. Next steps\\u200b'),\n",
       " Document(metadata={'source': 'https://docs.smith.langchain.com/prompt_engineering/quickstarts/quickstart_ui', 'title': 'Prompt Engineering Quick Start (UI) | 🦜️🛠️ LangSmith', 'description': 'This quick start will walk through how to create, test, and iterate on prompts in LangSmith.', 'language': 'en'}, page_content='Learn more about how to store and manage prompts using the Prompt Hub in these how-to guides\\nLearn more about how to use the playground for prompt engineering in these how-to guides'),\n",
       " Document(metadata={'source': 'https://docs.smith.langchain.com/prompt_engineering/quickstarts/quickstart_ui', 'title': 'Prompt Engineering Quick Start (UI) | 🦜️🛠️ LangSmith', 'description': 'This quick start will walk through how to create, test, and iterate on prompts in LangSmith.', 'language': 'en'}, page_content='Learn more about how to use the playground for prompt engineering in these how-to guides\\nWas this page helpful?You can leave detailed feedback on GitHub.PreviousConceptual GuideNextQuick Start (UI)1. Setup2. Create a prompt3. Test a prompt4. Save a prompt5. Iterate on a prompt6. Next stepsCommunityDiscordTwitterGitHubDocs CodeLangSmith SDKPythonJS/TSMoreHomepageBlogLangChain Python DocsLangChain JS/TS DocsCopyright © 2025 LangChain, Inc.')]"
      ]
     },
     "execution_count": 9,
     "metadata": {},
     "output_type": "execute_result"
    }
   ],
   "source": [
    "##lots of information in docs next step is to divide this into chunks\n",
    "from langchain_text_splitters import RecursiveCharacterTextSplitter\n",
    "text_splitter= RecursiveCharacterTextSplitter(chunk_size=500, chunk_overlap=200)\n",
    "documents= text_splitter.split_documents(doc)\n",
    "documents"
   ]
  },
  {
   "cell_type": "code",
   "execution_count": 10,
   "metadata": {},
   "outputs": [],
   "source": [
    "##conversion of all this tetx into vectors\n",
    "\n",
    "from langchain_openai import OpenAIEmbeddings\n",
    "embeddings= OpenAIEmbeddings()\n"
   ]
  },
  {
   "cell_type": "code",
   "execution_count": 13,
   "metadata": {},
   "outputs": [
    {
     "name": "stdout",
     "output_type": "stream",
     "text": [
      "Collecting faiss-cpu\n",
      "  Downloading faiss_cpu-1.10.0-cp310-cp310-macosx_11_0_arm64.whl.metadata (4.4 kB)\n",
      "Requirement already satisfied: numpy<3.0,>=1.25.0 in /Users/sharmila/Downloads/Langchain/Langchain/venv/lib/python3.10/site-packages (from faiss-cpu) (2.2.4)\n",
      "Requirement already satisfied: packaging in /Users/sharmila/Downloads/Langchain/Langchain/venv/lib/python3.10/site-packages (from faiss-cpu) (24.2)\n",
      "Downloading faiss_cpu-1.10.0-cp310-cp310-macosx_11_0_arm64.whl (3.2 MB)\n",
      "\u001b[2K   \u001b[90m━━━━━━━━━━━━━━━━━━━━━━━━━━━━━━━━━━━━━━━━\u001b[0m \u001b[32m3.2/3.2 MB\u001b[0m \u001b[31m1.9 MB/s\u001b[0m eta \u001b[36m0:00:00\u001b[0ma \u001b[36m0:00:01\u001b[0m\n",
      "\u001b[?25hInstalling collected packages: faiss-cpu\n",
      "Successfully installed faiss-cpu-1.10.0\n"
     ]
    }
   ],
   "source": [
    "!pip install faiss-cpu"
   ]
  },
  {
   "cell_type": "code",
   "execution_count": null,
   "metadata": {},
   "outputs": [],
   "source": [
    "##string vectors inn fiass db\n",
    "from langchain_community.vectorstores import FAISS\n",
    "vectorstoredb= FAISS.from_documents(documents,embeddings)\n",
    "vectorstoredb"
   ]
  },
  {
   "cell_type": "code",
   "execution_count": null,
   "metadata": {},
   "outputs": [],
   "source": []
  },
  {
   "cell_type": "code",
   "execution_count": null,
   "metadata": {},
   "outputs": [],
   "source": []
  },
  {
   "cell_type": "code",
   "execution_count": null,
   "metadata": {},
   "outputs": [],
   "source": []
  },
  {
   "cell_type": "code",
   "execution_count": null,
   "metadata": {},
   "outputs": [],
   "source": []
  }
 ],
 "metadata": {
  "kernelspec": {
   "display_name": "Python 3",
   "language": "python",
   "name": "python3"
  },
  "language_info": {
   "codemirror_mode": {
    "name": "ipython",
    "version": 3
   },
   "file_extension": ".py",
   "mimetype": "text/x-python",
   "name": "python",
   "nbconvert_exporter": "python",
   "pygments_lexer": "ipython3",
   "version": "3.10.16"
  }
 },
 "nbformat": 4,
 "nbformat_minor": 2
}
