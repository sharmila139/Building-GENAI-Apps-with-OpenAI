{
 "cells": [
  {
   "cell_type": "markdown",
   "metadata": {},
   "source": [
    "Getting started with OpenAI and OLLama"
   ]
  },
  {
   "cell_type": "code",
   "execution_count": 19,
   "metadata": {},
   "outputs": [],
   "source": [
    "##import from env, all the requirements\n",
    "import os\n",
    "from dotenv import load_dotenv  \n",
    "load_dotenv()\n",
    "\n",
    "os.environ['OPENAI_API_KEY']= os.getenv(\"OPENAI_API_KEY\")\n",
    "os.environ['LANGCHAIN_API_KEY']= os.getenv(\"LANGCHAIN_API_KEY\")\n",
    "##LANGCHAIN TRACING\n",
    "os.environ['LANGCHAIN_TRACING_V2']=\"true\"\n",
    "os.environ['LANGCHAIN_PROJECT']= os.getenv(\"LANGCHAIN_PROJECT\")"
   ]
  },
  {
   "cell_type": "code",
   "execution_count": 20,
   "metadata": {},
   "outputs": [
    {
     "name": "stdout",
     "output_type": "stream",
     "text": [
      "client=<openai.resources.chat.completions.completions.Completions object at 0x1174f56c0> async_client=<openai.resources.chat.completions.completions.AsyncCompletions object at 0x1174f7490> root_client=<openai.OpenAI object at 0x11748f220> root_async_client=<openai.AsyncOpenAI object at 0x1174f56f0> model_name='gpt-4o' model_kwargs={} openai_api_key=SecretStr('**********')\n"
     ]
    }
   ],
   "source": [
    "from langchain_openai import ChatOpenAI\n",
    "llm = ChatOpenAI(model=\"gpt-4o\")  ##dont have to specify api key as it is already created a senviroment variable\n",
    "print(llm)"
   ]
  },
  {
   "cell_type": "code",
   "execution_count": 23,
   "metadata": {},
   "outputs": [
    {
     "name": "stdout",
     "output_type": "stream",
     "text": [
      "content=\"Aaloo paratha is a popular Indian flatbread stuffed with a spiced potato filling. Here's a step-by-step guide to making it:\\n\\n### Ingredients\\n\\n#### For the Dough\\n- 2 cups whole wheat flour\\n- Water, as needed\\n- 1 tablespoon oil (optional)\\n- Salt to taste\\n\\n#### For the Potato Filling\\n- 3-4 medium-sized potatoes, boiled and peeled\\n- 1-2 green chilies, finely chopped (optional)\\n- 1-inch piece of ginger, grated\\n- 1 teaspoon cumin seeds\\n- 1 teaspoon coriander powder\\n- 1/2 teaspoon red chili powder (optional)\\n- 1/2 teaspoon turmeric powder\\n- 1 teaspoon garam masala\\n- A handful of fresh coriander leaves, chopped\\n- Salt to taste\\n- Butter or oil for cooking\\n\\n### Instructions\\n\\n#### Prepare the Dough\\n1. **Mix Ingredients**: In a large bowl, combine the whole wheat flour and salt.\\n2. **Knead the Dough**: Gradually add water and knead to form a smooth, soft dough. Optionally, add a tablespoon of oil while kneading to make the dough pliable.\\n3. **Rest the Dough**: Cover and let it rest for about 20-30 minutes.\\n\\n#### Make the Potato Filling\\n1. **Mash Potatoes**: In another bowl, mash the boiled potatoes until smooth.\\n2. **Add Spices**: Mix in the chopped green chilies, grated ginger, cumin seeds, coriander powder, red chili powder, turmeric powder, garam masala, and salt.\\n3. **Add Fresh Herbs**: Stir in the chopped coriander leaves.\\n4. **Mix Thoroughly**: Combine all ingredients well to form a uniform filling.\\n\\n#### Assemble and Cook the Parathas\\n1. **Divide Dough and Filling**: Divide the dough and potato filling into equal-sized portions. Make sure each ball of dough is slightly larger than the filling balls.\\n2. **Roll the Dough**: Take a dough ball and roll it into a small circle (about 4 inches in diameter).\\n3. **Add Filling**: Place a portion of the potato mix in the center of the circle.\\n4. **Seal the Paratha**: Bring the edges of the dough together to encase the filling, ensuring it's sealed properly to avoid leakage.\\n5. **Roll Again**: Gently roll the filled dough into a larger circle (about 6-8 inches), ensuring the filling is evenly spread. Be careful not to apply too much pressure to avoid tearing.\\n6. **Cook the Paratha**: Heat a tawa or flat pan on medium heat. Place the rolled paratha on the hot pan.\\n7. **Apply Oil/Butter**: When one side begins to cook, flip the paratha and apply oil or butter. Cook until golden brown spots appear, then flip again and apply oil or butter to the other side.\\n8. **Finish Cooking**: Press lightly with a spatula to ensure even cooking and crispness. Both sides should be golden brown.\\n\\n#### Serve\\n- Remove from heat and serve hot with yogurt, pickles, or chutney.\\n\\nEnjoy your homemade aaloo parathas!\" additional_kwargs={'refusal': None} response_metadata={'token_usage': {'completion_tokens': 662, 'prompt_tokens': 14, 'total_tokens': 676, 'completion_tokens_details': {'accepted_prediction_tokens': 0, 'audio_tokens': 0, 'reasoning_tokens': 0, 'rejected_prediction_tokens': 0}, 'prompt_tokens_details': {'audio_tokens': 0, 'cached_tokens': 0}}, 'model_name': 'gpt-4o-2024-08-06', 'system_fingerprint': 'fp_6ec83003ad', 'id': 'chatcmpl-BEf7C3tQ6qtYTG8GQvZthNKsQ1ybR', 'finish_reason': 'stop', 'logprobs': None} id='run-b56008bd-b2aa-4f17-8cfc-f823a48f7471-0' usage_metadata={'input_tokens': 14, 'output_tokens': 662, 'total_tokens': 676, 'input_token_details': {'audio': 0, 'cache_read': 0}, 'output_token_details': {'audio': 0, 'reasoning': 0}}\n"
     ]
    }
   ],
   "source": [
    "##provide input and get response from llm\n",
    "result = llm.invoke(\"How to make Aaloo paratha\")\n",
    "print(result)"
   ]
  },
  {
   "cell_type": "code",
   "execution_count": 25,
   "metadata": {},
   "outputs": [
    {
     "data": {
      "text/plain": [
       "ChatPromptTemplate(input_variables=['input'], input_types={}, partial_variables={}, messages=[SystemMessagePromptTemplate(prompt=PromptTemplate(input_variables=[], input_types={}, partial_variables={}, template='You are an AI expert engineer. provide me answrs based on these questions'), additional_kwargs={}), HumanMessagePromptTemplate(prompt=PromptTemplate(input_variables=['input'], input_types={}, partial_variables={}, template='{input}'), additional_kwargs={})])"
      ]
     },
     "execution_count": 25,
     "metadata": {},
     "output_type": "execute_result"
    }
   ],
   "source": [
    "##chatprompt template\n",
    "from langchain_core.prompts import ChatPromptTemplate\n",
    "prompt = ChatPromptTemplate.from_messages(\n",
    "    [\n",
    "        (\"system\",\"You are an AI expert engineer. provide me answrs based on these questions\"),\n",
    "        (\"user\",\"{input}\")\n",
    "    ]\n",
    ")\n",
    "prompt"
   ]
  },
  {
   "cell_type": "code",
   "execution_count": 30,
   "metadata": {},
   "outputs": [
    {
     "name": "stdout",
     "output_type": "stream",
     "text": [
      "content=\"Certainly! Virat Kohli is one of the most renowned cricketers in the world and has been a central figure in the Indian Premier League (IPL). He has played for the Royal Challengers Bangalore (RCB) since the inception of the IPL in 2008. Kohli is known for his exceptional batting skills, aggressive style of play, and leadership qualities.\\n\\nVirat Kohli was appointed the captain of RCB in 2013 and led the team until 2021. Under his captaincy, the team came close to winning the tournament but never clinched the title. Known for his consistency, Kohli has numerous IPL records to his name, including being one of the top run-scorers in the league's history.\\n\\nThe Royal Challengers Bangalore, based in Bangalore, is one of the original eight teams that participated in the inaugural IPL season in 2008. Despite being one of the popular teams with a strong fan base, RCB has often struggled to win the IPL title. The team's performance is often marked by strong batting lineups but has sometimes been inconsistent due to bowling vulnerabilities.\\n\\nRCB's colors are red and black, and they play their home matches at the M. Chinnaswamy Stadium in Bangalore. Over the years, the team has featured several cricketing legends, such as AB de Villiers, Chris Gayle, and Yuzvendra Chahal.\\n\\nAs of the latest updates from 2023, Virat Kohli no longer serves as the team's captain but remains a key player for RCB. The team's aspiration to win its maiden IPL title continues, with the management often making strategic changes to improve their chances each season.\" additional_kwargs={'refusal': None} response_metadata={'token_usage': {'completion_tokens': 340, 'prompt_tokens': 44, 'total_tokens': 384, 'completion_tokens_details': {'accepted_prediction_tokens': 0, 'audio_tokens': 0, 'reasoning_tokens': 0, 'rejected_prediction_tokens': 0}, 'prompt_tokens_details': {'audio_tokens': 0, 'cached_tokens': 0}}, 'model_name': 'gpt-4o-2024-08-06', 'system_fingerprint': 'fp_90d33c15d4', 'id': 'chatcmpl-BEfVi1gpwlETaumvWuHQJe63SeA3o', 'finish_reason': 'stop', 'logprobs': None} id='run-3c551f20-509f-4eaa-8c98-c65f1de94cad-0' usage_metadata={'input_tokens': 44, 'output_tokens': 340, 'total_tokens': 384, 'input_token_details': {'audio': 0, 'cache_read': 0}, 'output_token_details': {'audio': 0, 'reasoning': 0}}\n"
     ]
    }
   ],
   "source": [
    "chain = prompt| llm ##whenever input is given  it goes through prompt andthen goes to llm\n",
    "result1 = chain.invoke({\"input\":\"Hey Can you tell me about Virat Kohli and RCB Team in IPL?\"})\n",
    "print(result1)"
   ]
  },
  {
   "cell_type": "markdown",
   "metadata": {},
   "source": []
  },
  {
   "cell_type": "code",
   "execution_count": null,
   "metadata": {},
   "outputs": [],
   "source": []
  },
  {
   "cell_type": "code",
   "execution_count": null,
   "metadata": {},
   "outputs": [],
   "source": []
  },
  {
   "cell_type": "code",
   "execution_count": null,
   "metadata": {},
   "outputs": [],
   "source": []
  },
  {
   "cell_type": "code",
   "execution_count": null,
   "metadata": {},
   "outputs": [],
   "source": []
  },
  {
   "cell_type": "code",
   "execution_count": null,
   "metadata": {},
   "outputs": [],
   "source": []
  }
 ],
 "metadata": {
  "kernelspec": {
   "display_name": "Python 3",
   "language": "python",
   "name": "python3"
  },
  "language_info": {
   "codemirror_mode": {
    "name": "ipython",
    "version": 3
   },
   "file_extension": ".py",
   "mimetype": "text/x-python",
   "name": "python",
   "nbconvert_exporter": "python",
   "pygments_lexer": "ipython3",
   "version": "3.10.16"
  }
 },
 "nbformat": 4,
 "nbformat_minor": 2
}
